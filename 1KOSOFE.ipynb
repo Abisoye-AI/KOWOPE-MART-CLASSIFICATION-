{
 "cells": [
  {
   "cell_type": "code",
   "execution_count": 3,
   "metadata": {},
   "outputs": [
    {
     "name": "stderr",
     "output_type": "stream",
     "text": [
      "C:\\ProgramData\\Anaconda3\\lib\\site-packages\\dask\\dataframe\\utils.py:14: FutureWarning: pandas.util.testing is deprecated. Use the functions in the public API at pandas.testing instead.\n",
      "  import pandas.util.testing as tm\n",
      "C:\\ProgramData\\Anaconda3\\lib\\site-packages\\distributed\\config.py:63: YAMLLoadWarning: calling yaml.load() without Loader=... is deprecated, as the default Loader is unsafe. Please read https://msg.pyyaml.org/load for full details.\n",
      "  config.update(yaml.load(text) or {})\n"
     ]
    }
   ],
   "source": [
    "#import necessary tools used in the analysis\n",
    "import pandas as pd\n",
    "import numpy as np\n",
    "from sklearn.cluster import KMeans\n",
    "import lightgbm as lgbm\n",
    "import xgboost as xgb\n",
    "from xgboost import XGBClassifier\n",
    "\n",
    "from sklearn.model_selection import train_test_split, KFold\n",
    "\n",
    "from lightgbm import LGBMClassifier\n",
    "from catboost import CatBoostClassifier\n",
    "from sklearn.metrics import roc_auc_score,auc"
   ]
  },
  {
   "cell_type": "code",
   "execution_count": 2,
   "metadata": {},
   "outputs": [],
   "source": [
    "#import the data from your local pc\n",
    "train=pd.read_csv(\"TRAINKOS.csv\")\n",
    "test=pd.read_csv(\"TESTKOS.csv\")\n",
    "sub=pd.read_csv(\"SampleSubmission.csv\")"
   ]
  },
  {
   "cell_type": "code",
   "execution_count": 3,
   "metadata": {},
   "outputs": [
    {
     "data": {
      "text/html": [
       "<div>\n",
       "<style scoped>\n",
       "    .dataframe tbody tr th:only-of-type {\n",
       "        vertical-align: middle;\n",
       "    }\n",
       "\n",
       "    .dataframe tbody tr th {\n",
       "        vertical-align: top;\n",
       "    }\n",
       "\n",
       "    .dataframe thead th {\n",
       "        text-align: right;\n",
       "    }\n",
       "</style>\n",
       "<table border=\"1\" class=\"dataframe\">\n",
       "  <thead>\n",
       "    <tr style=\"text-align: right;\">\n",
       "      <th></th>\n",
       "      <th>Applicant_ID</th>\n",
       "      <th>form_field1</th>\n",
       "      <th>form_field2</th>\n",
       "      <th>form_field3</th>\n",
       "      <th>form_field4</th>\n",
       "      <th>form_field5</th>\n",
       "      <th>form_field6</th>\n",
       "      <th>form_field7</th>\n",
       "      <th>form_field8</th>\n",
       "      <th>form_field9</th>\n",
       "      <th>...</th>\n",
       "      <th>form_field42</th>\n",
       "      <th>form_field43</th>\n",
       "      <th>form_field44</th>\n",
       "      <th>form_field45</th>\n",
       "      <th>form_field46</th>\n",
       "      <th>form_field47</th>\n",
       "      <th>form_field48</th>\n",
       "      <th>form_field49</th>\n",
       "      <th>form_field50</th>\n",
       "      <th>default_status</th>\n",
       "    </tr>\n",
       "  </thead>\n",
       "  <tbody>\n",
       "    <tr>\n",
       "      <th>0</th>\n",
       "      <td>Apcnt_1000000</td>\n",
       "      <td>3436.0</td>\n",
       "      <td>0.28505</td>\n",
       "      <td>1.6560</td>\n",
       "      <td>0.0</td>\n",
       "      <td>0.0</td>\n",
       "      <td>0.0</td>\n",
       "      <td>10689720.0</td>\n",
       "      <td>252072.0</td>\n",
       "      <td>4272776.0</td>\n",
       "      <td>...</td>\n",
       "      <td>0.392854</td>\n",
       "      <td>2.02</td>\n",
       "      <td>0.711632</td>\n",
       "      <td>0.0</td>\n",
       "      <td>0.0</td>\n",
       "      <td>charge</td>\n",
       "      <td>NaN</td>\n",
       "      <td>1.129518</td>\n",
       "      <td>0.044335</td>\n",
       "      <td>no</td>\n",
       "    </tr>\n",
       "    <tr>\n",
       "      <th>1</th>\n",
       "      <td>Apcnt_1000004</td>\n",
       "      <td>3456.0</td>\n",
       "      <td>0.67400</td>\n",
       "      <td>0.2342</td>\n",
       "      <td>0.0</td>\n",
       "      <td>0.0</td>\n",
       "      <td>0.0</td>\n",
       "      <td>898979.0</td>\n",
       "      <td>497531.0</td>\n",
       "      <td>9073814.0</td>\n",
       "      <td>...</td>\n",
       "      <td>0.314281</td>\n",
       "      <td>8.08</td>\n",
       "      <td>0.183584</td>\n",
       "      <td>NaN</td>\n",
       "      <td>0.0</td>\n",
       "      <td>charge</td>\n",
       "      <td>349.80573</td>\n",
       "      <td>1.620483</td>\n",
       "      <td>0.322436</td>\n",
       "      <td>no</td>\n",
       "    </tr>\n",
       "  </tbody>\n",
       "</table>\n",
       "<p>2 rows × 52 columns</p>\n",
       "</div>"
      ],
      "text/plain": [
       "    Applicant_ID  form_field1  form_field2  form_field3  form_field4  \\\n",
       "0  Apcnt_1000000       3436.0      0.28505       1.6560          0.0   \n",
       "1  Apcnt_1000004       3456.0      0.67400       0.2342          0.0   \n",
       "\n",
       "   form_field5  form_field6  form_field7  form_field8  form_field9  ...  \\\n",
       "0          0.0          0.0   10689720.0     252072.0    4272776.0  ...   \n",
       "1          0.0          0.0     898979.0     497531.0    9073814.0  ...   \n",
       "\n",
       "   form_field42  form_field43  form_field44  form_field45  form_field46  \\\n",
       "0      0.392854          2.02      0.711632           0.0           0.0   \n",
       "1      0.314281          8.08      0.183584           NaN           0.0   \n",
       "\n",
       "   form_field47  form_field48  form_field49  form_field50  default_status  \n",
       "0        charge           NaN      1.129518      0.044335              no  \n",
       "1        charge     349.80573      1.620483      0.322436              no  \n",
       "\n",
       "[2 rows x 52 columns]"
      ]
     },
     "execution_count": 3,
     "metadata": {},
     "output_type": "execute_result"
    }
   ],
   "source": [
    "train.head(2)"
   ]
  },
  {
   "cell_type": "code",
   "execution_count": 5,
   "metadata": {},
   "outputs": [
    {
     "data": {
      "text/plain": [
       "'1.1.2'"
      ]
     },
     "execution_count": 5,
     "metadata": {},
     "output_type": "execute_result"
    }
   ],
   "source": [
    "#to check the pandas version\n",
    "pd.__version__"
   ]
  },
  {
   "cell_type": "code",
   "execution_count": 4,
   "metadata": {},
   "outputs": [],
   "source": [
    "#test.head(2)...........this is optional"
   ]
  },
  {
   "cell_type": "code",
   "execution_count": 5,
   "metadata": {},
   "outputs": [],
   "source": [
    "#train.info()"
   ]
  },
  {
   "cell_type": "code",
   "execution_count": 4,
   "metadata": {},
   "outputs": [],
   "source": [
    "#using label encoder for changing alphabets into numbers recognised by the machine \n",
    "from sklearn.preprocessing import LabelEncoder\n",
    "encoder = LabelEncoder()\n",
    "train['default_status'] = encoder.fit_transform(train['default_status'])\n",
    "train['form_field47'] = encoder.fit_transform(train['form_field47'])\n",
    "test['form_field47'] = encoder.fit_transform(test['form_field47'])"
   ]
  },
  {
   "cell_type": "code",
   "execution_count": 5,
   "metadata": {},
   "outputs": [],
   "source": [
    "\n",
    "\n",
    "\n",
    "from sklearn.preprocessing import LabelEncoder\n",
    "encoder = LabelEncoder()\n",
    "train['default_status'] = encoder.fit_transform(train['default_status'])"
   ]
  },
  {
   "cell_type": "code",
   "execution_count": 6,
   "metadata": {},
   "outputs": [
    {
     "data": {
      "text/html": [
       "<div>\n",
       "<style scoped>\n",
       "    .dataframe tbody tr th:only-of-type {\n",
       "        vertical-align: middle;\n",
       "    }\n",
       "\n",
       "    .dataframe tbody tr th {\n",
       "        vertical-align: top;\n",
       "    }\n",
       "\n",
       "    .dataframe thead th {\n",
       "        text-align: right;\n",
       "    }\n",
       "</style>\n",
       "<table border=\"1\" class=\"dataframe\">\n",
       "  <thead>\n",
       "    <tr style=\"text-align: right;\">\n",
       "      <th></th>\n",
       "      <th>Applicant_ID</th>\n",
       "      <th>form_field1</th>\n",
       "      <th>form_field2</th>\n",
       "      <th>form_field3</th>\n",
       "      <th>form_field4</th>\n",
       "      <th>form_field5</th>\n",
       "      <th>form_field6</th>\n",
       "      <th>form_field7</th>\n",
       "      <th>form_field8</th>\n",
       "      <th>form_field9</th>\n",
       "      <th>...</th>\n",
       "      <th>form_field42</th>\n",
       "      <th>form_field43</th>\n",
       "      <th>form_field44</th>\n",
       "      <th>form_field45</th>\n",
       "      <th>form_field46</th>\n",
       "      <th>form_field47</th>\n",
       "      <th>form_field48</th>\n",
       "      <th>form_field49</th>\n",
       "      <th>form_field50</th>\n",
       "      <th>default_status</th>\n",
       "    </tr>\n",
       "  </thead>\n",
       "  <tbody>\n",
       "    <tr>\n",
       "      <th>0</th>\n",
       "      <td>Apcnt_1000000</td>\n",
       "      <td>3436.0</td>\n",
       "      <td>0.28505</td>\n",
       "      <td>1.6560</td>\n",
       "      <td>0.0</td>\n",
       "      <td>0.000</td>\n",
       "      <td>0.0</td>\n",
       "      <td>10689720.0</td>\n",
       "      <td>252072.0</td>\n",
       "      <td>4272776.0</td>\n",
       "      <td>...</td>\n",
       "      <td>0.392854</td>\n",
       "      <td>2.02</td>\n",
       "      <td>0.711632</td>\n",
       "      <td>0.0</td>\n",
       "      <td>0.0</td>\n",
       "      <td>0</td>\n",
       "      <td>NaN</td>\n",
       "      <td>1.129518</td>\n",
       "      <td>0.044335</td>\n",
       "      <td>0</td>\n",
       "    </tr>\n",
       "    <tr>\n",
       "      <th>1</th>\n",
       "      <td>Apcnt_1000004</td>\n",
       "      <td>3456.0</td>\n",
       "      <td>0.67400</td>\n",
       "      <td>0.2342</td>\n",
       "      <td>0.0</td>\n",
       "      <td>0.000</td>\n",
       "      <td>0.0</td>\n",
       "      <td>898979.0</td>\n",
       "      <td>497531.0</td>\n",
       "      <td>9073814.0</td>\n",
       "      <td>...</td>\n",
       "      <td>0.314281</td>\n",
       "      <td>8.08</td>\n",
       "      <td>0.183584</td>\n",
       "      <td>NaN</td>\n",
       "      <td>0.0</td>\n",
       "      <td>0</td>\n",
       "      <td>349.805730</td>\n",
       "      <td>1.620483</td>\n",
       "      <td>0.322436</td>\n",
       "      <td>0</td>\n",
       "    </tr>\n",
       "    <tr>\n",
       "      <th>2</th>\n",
       "      <td>Apcnt_1000008</td>\n",
       "      <td>3276.0</td>\n",
       "      <td>0.53845</td>\n",
       "      <td>3.1510</td>\n",
       "      <td>0.0</td>\n",
       "      <td>6.282</td>\n",
       "      <td>NaN</td>\n",
       "      <td>956940.0</td>\n",
       "      <td>NaN</td>\n",
       "      <td>192944.0</td>\n",
       "      <td>...</td>\n",
       "      <td>0.162965</td>\n",
       "      <td>18.18</td>\n",
       "      <td>0.791136</td>\n",
       "      <td>0.0</td>\n",
       "      <td>0.0</td>\n",
       "      <td>0</td>\n",
       "      <td>NaN</td>\n",
       "      <td>1.513370</td>\n",
       "      <td>0.011640</td>\n",
       "      <td>1</td>\n",
       "    </tr>\n",
       "    <tr>\n",
       "      <th>3</th>\n",
       "      <td>Apcnt_1000012</td>\n",
       "      <td>3372.0</td>\n",
       "      <td>0.17005</td>\n",
       "      <td>0.5050</td>\n",
       "      <td>0.0</td>\n",
       "      <td>0.000</td>\n",
       "      <td>192166.0</td>\n",
       "      <td>3044703.0</td>\n",
       "      <td>385499.0</td>\n",
       "      <td>3986472.0</td>\n",
       "      <td>...</td>\n",
       "      <td>0.488884</td>\n",
       "      <td>2.02</td>\n",
       "      <td>0.685168</td>\n",
       "      <td>NaN</td>\n",
       "      <td>0.0</td>\n",
       "      <td>0</td>\n",
       "      <td>89.940100</td>\n",
       "      <td>0.664452</td>\n",
       "      <td>0.082729</td>\n",
       "      <td>0</td>\n",
       "    </tr>\n",
       "    <tr>\n",
       "      <th>4</th>\n",
       "      <td>Apcnt_1000016</td>\n",
       "      <td>3370.0</td>\n",
       "      <td>0.77270</td>\n",
       "      <td>1.1010</td>\n",
       "      <td>0.0</td>\n",
       "      <td>0.000</td>\n",
       "      <td>1556.0</td>\n",
       "      <td>214728.0</td>\n",
       "      <td>214728.0</td>\n",
       "      <td>1284089.0</td>\n",
       "      <td>...</td>\n",
       "      <td>0.275000</td>\n",
       "      <td>12.12</td>\n",
       "      <td>0.438168</td>\n",
       "      <td>0.0</td>\n",
       "      <td>0.0</td>\n",
       "      <td>0</td>\n",
       "      <td>97.887502</td>\n",
       "      <td>1.427891</td>\n",
       "      <td>0.045630</td>\n",
       "      <td>0</td>\n",
       "    </tr>\n",
       "  </tbody>\n",
       "</table>\n",
       "<p>5 rows × 52 columns</p>\n",
       "</div>"
      ],
      "text/plain": [
       "    Applicant_ID  form_field1  form_field2  form_field3  form_field4  \\\n",
       "0  Apcnt_1000000       3436.0      0.28505       1.6560          0.0   \n",
       "1  Apcnt_1000004       3456.0      0.67400       0.2342          0.0   \n",
       "2  Apcnt_1000008       3276.0      0.53845       3.1510          0.0   \n",
       "3  Apcnt_1000012       3372.0      0.17005       0.5050          0.0   \n",
       "4  Apcnt_1000016       3370.0      0.77270       1.1010          0.0   \n",
       "\n",
       "   form_field5  form_field6  form_field7  form_field8  form_field9  ...  \\\n",
       "0        0.000          0.0   10689720.0     252072.0    4272776.0  ...   \n",
       "1        0.000          0.0     898979.0     497531.0    9073814.0  ...   \n",
       "2        6.282          NaN     956940.0          NaN     192944.0  ...   \n",
       "3        0.000     192166.0    3044703.0     385499.0    3986472.0  ...   \n",
       "4        0.000       1556.0     214728.0     214728.0    1284089.0  ...   \n",
       "\n",
       "   form_field42  form_field43  form_field44  form_field45  form_field46  \\\n",
       "0      0.392854          2.02      0.711632           0.0           0.0   \n",
       "1      0.314281          8.08      0.183584           NaN           0.0   \n",
       "2      0.162965         18.18      0.791136           0.0           0.0   \n",
       "3      0.488884          2.02      0.685168           NaN           0.0   \n",
       "4      0.275000         12.12      0.438168           0.0           0.0   \n",
       "\n",
       "   form_field47  form_field48  form_field49  form_field50  default_status  \n",
       "0             0           NaN      1.129518      0.044335               0  \n",
       "1             0    349.805730      1.620483      0.322436               0  \n",
       "2             0           NaN      1.513370      0.011640               1  \n",
       "3             0     89.940100      0.664452      0.082729               0  \n",
       "4             0     97.887502      1.427891      0.045630               0  \n",
       "\n",
       "[5 rows x 52 columns]"
      ]
     },
     "execution_count": 6,
     "metadata": {},
     "output_type": "execute_result"
    }
   ],
   "source": [
    "train.head()"
   ]
  },
  {
   "cell_type": "code",
   "execution_count": 7,
   "metadata": {},
   "outputs": [],
   "source": [
    "#dropping the apploicant ID is a very great move.\n",
    "train.drop([\"Applicant_ID\"], 1, inplace = True)\n",
    "test.drop([\"Applicant_ID\",], 1, inplace = True)"
   ]
  },
  {
   "cell_type": "code",
   "execution_count": 8,
   "metadata": {},
   "outputs": [
    {
     "data": {
      "text/html": [
       "<div>\n",
       "<style scoped>\n",
       "    .dataframe tbody tr th:only-of-type {\n",
       "        vertical-align: middle;\n",
       "    }\n",
       "\n",
       "    .dataframe tbody tr th {\n",
       "        vertical-align: top;\n",
       "    }\n",
       "\n",
       "    .dataframe thead th {\n",
       "        text-align: right;\n",
       "    }\n",
       "</style>\n",
       "<table border=\"1\" class=\"dataframe\">\n",
       "  <thead>\n",
       "    <tr style=\"text-align: right;\">\n",
       "      <th></th>\n",
       "      <th>form_field1</th>\n",
       "      <th>form_field2</th>\n",
       "      <th>form_field3</th>\n",
       "      <th>form_field4</th>\n",
       "      <th>form_field5</th>\n",
       "      <th>form_field6</th>\n",
       "      <th>form_field7</th>\n",
       "      <th>form_field8</th>\n",
       "      <th>form_field9</th>\n",
       "      <th>form_field10</th>\n",
       "      <th>...</th>\n",
       "      <th>form_field42</th>\n",
       "      <th>form_field43</th>\n",
       "      <th>form_field44</th>\n",
       "      <th>form_field45</th>\n",
       "      <th>form_field46</th>\n",
       "      <th>form_field47</th>\n",
       "      <th>form_field48</th>\n",
       "      <th>form_field49</th>\n",
       "      <th>form_field50</th>\n",
       "      <th>default_status</th>\n",
       "    </tr>\n",
       "  </thead>\n",
       "  <tbody>\n",
       "    <tr>\n",
       "      <th>0</th>\n",
       "      <td>3436.0</td>\n",
       "      <td>0.28505</td>\n",
       "      <td>1.6560</td>\n",
       "      <td>0.0</td>\n",
       "      <td>0.000</td>\n",
       "      <td>0.0</td>\n",
       "      <td>10689720.0</td>\n",
       "      <td>252072.0</td>\n",
       "      <td>4272776.0</td>\n",
       "      <td>11333126.0</td>\n",
       "      <td>...</td>\n",
       "      <td>0.392854</td>\n",
       "      <td>2.02</td>\n",
       "      <td>0.711632</td>\n",
       "      <td>0.0</td>\n",
       "      <td>0.0</td>\n",
       "      <td>0</td>\n",
       "      <td>NaN</td>\n",
       "      <td>1.129518</td>\n",
       "      <td>0.044335</td>\n",
       "      <td>0</td>\n",
       "    </tr>\n",
       "    <tr>\n",
       "      <th>1</th>\n",
       "      <td>3456.0</td>\n",
       "      <td>0.67400</td>\n",
       "      <td>0.2342</td>\n",
       "      <td>0.0</td>\n",
       "      <td>0.000</td>\n",
       "      <td>0.0</td>\n",
       "      <td>898979.0</td>\n",
       "      <td>497531.0</td>\n",
       "      <td>9073814.0</td>\n",
       "      <td>2533168.0</td>\n",
       "      <td>...</td>\n",
       "      <td>0.314281</td>\n",
       "      <td>8.08</td>\n",
       "      <td>0.183584</td>\n",
       "      <td>NaN</td>\n",
       "      <td>0.0</td>\n",
       "      <td>0</td>\n",
       "      <td>349.805730</td>\n",
       "      <td>1.620483</td>\n",
       "      <td>0.322436</td>\n",
       "      <td>0</td>\n",
       "    </tr>\n",
       "    <tr>\n",
       "      <th>2</th>\n",
       "      <td>3276.0</td>\n",
       "      <td>0.53845</td>\n",
       "      <td>3.1510</td>\n",
       "      <td>0.0</td>\n",
       "      <td>6.282</td>\n",
       "      <td>NaN</td>\n",
       "      <td>956940.0</td>\n",
       "      <td>NaN</td>\n",
       "      <td>192944.0</td>\n",
       "      <td>1079864.0</td>\n",
       "      <td>...</td>\n",
       "      <td>0.162965</td>\n",
       "      <td>18.18</td>\n",
       "      <td>0.791136</td>\n",
       "      <td>0.0</td>\n",
       "      <td>0.0</td>\n",
       "      <td>0</td>\n",
       "      <td>NaN</td>\n",
       "      <td>1.513370</td>\n",
       "      <td>0.011640</td>\n",
       "      <td>1</td>\n",
       "    </tr>\n",
       "    <tr>\n",
       "      <th>3</th>\n",
       "      <td>3372.0</td>\n",
       "      <td>0.17005</td>\n",
       "      <td>0.5050</td>\n",
       "      <td>0.0</td>\n",
       "      <td>0.000</td>\n",
       "      <td>192166.0</td>\n",
       "      <td>3044703.0</td>\n",
       "      <td>385499.0</td>\n",
       "      <td>3986472.0</td>\n",
       "      <td>3621979.0</td>\n",
       "      <td>...</td>\n",
       "      <td>0.488884</td>\n",
       "      <td>2.02</td>\n",
       "      <td>0.685168</td>\n",
       "      <td>NaN</td>\n",
       "      <td>0.0</td>\n",
       "      <td>0</td>\n",
       "      <td>89.940100</td>\n",
       "      <td>0.664452</td>\n",
       "      <td>0.082729</td>\n",
       "      <td>0</td>\n",
       "    </tr>\n",
       "    <tr>\n",
       "      <th>4</th>\n",
       "      <td>3370.0</td>\n",
       "      <td>0.77270</td>\n",
       "      <td>1.1010</td>\n",
       "      <td>0.0</td>\n",
       "      <td>0.000</td>\n",
       "      <td>1556.0</td>\n",
       "      <td>214728.0</td>\n",
       "      <td>214728.0</td>\n",
       "      <td>1284089.0</td>\n",
       "      <td>361770.0</td>\n",
       "      <td>...</td>\n",
       "      <td>0.275000</td>\n",
       "      <td>12.12</td>\n",
       "      <td>0.438168</td>\n",
       "      <td>0.0</td>\n",
       "      <td>0.0</td>\n",
       "      <td>0</td>\n",
       "      <td>97.887502</td>\n",
       "      <td>1.427891</td>\n",
       "      <td>0.045630</td>\n",
       "      <td>0</td>\n",
       "    </tr>\n",
       "  </tbody>\n",
       "</table>\n",
       "<p>5 rows × 51 columns</p>\n",
       "</div>"
      ],
      "text/plain": [
       "   form_field1  form_field2  form_field3  form_field4  form_field5  \\\n",
       "0       3436.0      0.28505       1.6560          0.0        0.000   \n",
       "1       3456.0      0.67400       0.2342          0.0        0.000   \n",
       "2       3276.0      0.53845       3.1510          0.0        6.282   \n",
       "3       3372.0      0.17005       0.5050          0.0        0.000   \n",
       "4       3370.0      0.77270       1.1010          0.0        0.000   \n",
       "\n",
       "   form_field6  form_field7  form_field8  form_field9  form_field10  ...  \\\n",
       "0          0.0   10689720.0     252072.0    4272776.0    11333126.0  ...   \n",
       "1          0.0     898979.0     497531.0    9073814.0     2533168.0  ...   \n",
       "2          NaN     956940.0          NaN     192944.0     1079864.0  ...   \n",
       "3     192166.0    3044703.0     385499.0    3986472.0     3621979.0  ...   \n",
       "4       1556.0     214728.0     214728.0    1284089.0      361770.0  ...   \n",
       "\n",
       "   form_field42  form_field43  form_field44  form_field45  form_field46  \\\n",
       "0      0.392854          2.02      0.711632           0.0           0.0   \n",
       "1      0.314281          8.08      0.183584           NaN           0.0   \n",
       "2      0.162965         18.18      0.791136           0.0           0.0   \n",
       "3      0.488884          2.02      0.685168           NaN           0.0   \n",
       "4      0.275000         12.12      0.438168           0.0           0.0   \n",
       "\n",
       "   form_field47  form_field48  form_field49  form_field50  default_status  \n",
       "0             0           NaN      1.129518      0.044335               0  \n",
       "1             0    349.805730      1.620483      0.322436               0  \n",
       "2             0           NaN      1.513370      0.011640               1  \n",
       "3             0     89.940100      0.664452      0.082729               0  \n",
       "4             0     97.887502      1.427891      0.045630               0  \n",
       "\n",
       "[5 rows x 51 columns]"
      ]
     },
     "execution_count": 8,
     "metadata": {},
     "output_type": "execute_result"
    }
   ],
   "source": [
    "train.head()"
   ]
  },
  {
   "cell_type": "code",
   "execution_count": 9,
   "metadata": {},
   "outputs": [],
   "source": [
    "#fill in missing values 999 or -999 can also be used.\n",
    "train=train.fillna(-1)\n",
    "test=test.fillna(-1)\n"
   ]
  },
  {
   "cell_type": "code",
   "execution_count": 10,
   "metadata": {},
   "outputs": [
    {
     "data": {
      "text/plain": [
       "(56000, 51)"
      ]
     },
     "execution_count": 10,
     "metadata": {},
     "output_type": "execute_result"
    }
   ],
   "source": [
    "train.shape"
   ]
  },
  {
   "cell_type": "code",
   "execution_count": 11,
   "metadata": {},
   "outputs": [
    {
     "data": {
      "text/plain": [
       "(24000, 50)"
      ]
     },
     "execution_count": 11,
     "metadata": {},
     "output_type": "execute_result"
    }
   ],
   "source": [
    "test.shape"
   ]
  },
  {
   "cell_type": "code",
   "execution_count": 12,
   "metadata": {},
   "outputs": [],
   "source": [
    "#concatenating the train and test set\n",
    "data = pd.concat([train,test],axis=0)\n",
    "data = data.reset_index(drop=True)"
   ]
  },
  {
   "cell_type": "code",
   "execution_count": 13,
   "metadata": {},
   "outputs": [],
   "source": [
    "\n",
    "train=data[data.default_status.notnull()].reset_index(drop=True)\n",
    "test=data[data.default_status.isna()].reset_index(drop=True)"
   ]
  },
  {
   "cell_type": "code",
   "execution_count": 14,
   "metadata": {},
   "outputs": [],
   "source": [
    "y = train.default_status\n",
    "train.drop('default_status', axis=1, inplace=True)\n",
    "test.drop('default_status', axis=1, inplace=True)"
   ]
  },
  {
   "cell_type": "code",
   "execution_count": 15,
   "metadata": {},
   "outputs": [
    {
     "data": {
      "text/plain": [
       "((56000, 50), (24000, 50))"
      ]
     },
     "execution_count": 15,
     "metadata": {},
     "output_type": "execute_result"
    }
   ],
   "source": [
    "train.shape, test.shape"
   ]
  },
  {
   "cell_type": "code",
   "execution_count": 16,
   "metadata": {},
   "outputs": [],
   "source": [
    "X_1, X_2, y_1, y_2 = train_test_split(train, y, test_size = 0.2, random_state = 0)"
   ]
  },
  {
   "cell_type": "code",
   "execution_count": 17,
   "metadata": {},
   "outputs": [],
   "source": [
    "X_3, X_4, y_3, y_4 = train_test_split(X_2, y_2, test_size = 0.2, random_state = 0)"
   ]
  },
  {
   "cell_type": "code",
   "execution_count": 18,
   "metadata": {},
   "outputs": [
    {
     "data": {
      "text/plain": [
       "((8960, 50), (8960,))"
      ]
     },
     "execution_count": 18,
     "metadata": {},
     "output_type": "execute_result"
    }
   ],
   "source": [
    "X_3.shape, y_3.shape"
   ]
  },
  {
   "cell_type": "code",
   "execution_count": 19,
   "metadata": {},
   "outputs": [],
   "source": [
    "val_model = XGBClassifier(random_seed = 10, n_estimators = 1000)"
   ]
  },
  {
   "cell_type": "code",
   "execution_count": 20,
   "metadata": {},
   "outputs": [],
   "source": [
    "%%capture \n",
    "#In the real sense we want to see how the model's doing but I did this to avoid long training lines on github\n",
    "\n",
    "val_model.fit(X_3, y_3)"
   ]
  },
  {
   "cell_type": "code",
   "execution_count": 21,
   "metadata": {},
   "outputs": [],
   "source": [
    "val_pred = val_model.predict_proba(X_4)[:, 1]"
   ]
  },
  {
   "cell_type": "code",
   "execution_count": 22,
   "metadata": {},
   "outputs": [
    {
     "data": {
      "text/plain": [
       "0.780115962181946"
      ]
     },
     "execution_count": 22,
     "metadata": {},
     "output_type": "execute_result"
    }
   ],
   "source": [
    "\n",
    "log_loss(y_4, val_pred)"
   ]
  },
  {
   "cell_type": "code",
   "execution_count": 25,
   "metadata": {},
   "outputs": [
    {
     "data": {
      "text/plain": [
       "((56000, 50), (24000, 50), (56000,))"
      ]
     },
     "execution_count": 25,
     "metadata": {},
     "output_type": "execute_result"
    }
   ],
   "source": [
    "train.shape, test.shape, y.shape"
   ]
  },
  {
   "cell_type": "code",
   "execution_count": 24,
   "metadata": {},
   "outputs": [],
   "source": [
    "from sklearn.model_selection import KFold,train_test_split,LeaveOneOut,StratifiedKFold"
   ]
  },
  {
   "cell_type": "code",
   "execution_count": 26,
   "metadata": {},
   "outputs": [
    {
     "name": "stdout",
     "output_type": "stream",
     "text": [
      "1 iter\n",
      "0:\ttest: 0.8105615\ttest1: 0.8001804\tbest: 0.8001804 (0)\ttotal: 435ms\tremaining: 7m 14s\n",
      "100:\ttest: 0.9161851\ttest1: 0.8343471\tbest: 0.8348452 (93)\ttotal: 28.8s\tremaining: 4m 16s\n",
      "200:\ttest: 0.9589303\ttest1: 0.8333103\tbest: 0.8348452 (93)\ttotal: 1m 4s\tremaining: 4m 15s\n",
      "300:\ttest: 0.9802066\ttest1: 0.8303678\tbest: 0.8348452 (93)\ttotal: 1m 33s\tremaining: 3m 37s\n",
      "400:\ttest: 0.9901245\ttest1: 0.8295353\tbest: 0.8348452 (93)\ttotal: 2m 4s\tremaining: 3m 6s\n",
      "500:\ttest: 0.9957845\ttest1: 0.8266566\tbest: 0.8348452 (93)\ttotal: 2m 31s\tremaining: 2m 31s\n",
      "Stopped by overfitting detector  (500 iterations wait)\n",
      "\n",
      "bestTest = 0.8348452342\n",
      "bestIteration = 93\n",
      "\n",
      "err:  0.825850351625973\n",
      "2 iter\n",
      "0:\ttest: 0.8132454\ttest1: 0.8109531\tbest: 0.8109531 (0)\ttotal: 277ms\tremaining: 4m 36s\n",
      "100:\ttest: 0.9157893\ttest1: 0.8409279\tbest: 0.8418352 (76)\ttotal: 27.4s\tremaining: 4m 3s\n",
      "200:\ttest: 0.9572452\ttest1: 0.8400486\tbest: 0.8418352 (76)\ttotal: 54.3s\tremaining: 3m 35s\n",
      "300:\ttest: 0.9792968\ttest1: 0.8391050\tbest: 0.8418352 (76)\ttotal: 1m 20s\tremaining: 3m 7s\n",
      "400:\ttest: 0.9901662\ttest1: 0.8360718\tbest: 0.8418352 (76)\ttotal: 1m 47s\tremaining: 2m 40s\n",
      "500:\ttest: 0.9956374\ttest1: 0.8333625\tbest: 0.8418352 (76)\ttotal: 2m 14s\tremaining: 2m 13s\n",
      "Stopped by overfitting detector  (500 iterations wait)\n",
      "\n",
      "bestTest = 0.8418351836\n",
      "bestIteration = 76\n",
      "\n",
      "err:  0.83313863666603\n",
      "3 iter\n",
      "0:\ttest: 0.8081359\ttest1: 0.8066065\tbest: 0.8066065 (0)\ttotal: 310ms\tremaining: 5m 10s\n",
      "100:\ttest: 0.9164140\ttest1: 0.8431007\tbest: 0.8442912 (68)\ttotal: 29.4s\tremaining: 4m 22s\n",
      "200:\ttest: 0.9555703\ttest1: 0.8404890\tbest: 0.8442912 (68)\ttotal: 55.6s\tremaining: 3m 41s\n",
      "300:\ttest: 0.9781298\ttest1: 0.8355346\tbest: 0.8442912 (68)\ttotal: 1m 22s\tremaining: 3m 11s\n",
      "400:\ttest: 0.9897109\ttest1: 0.8327534\tbest: 0.8442912 (68)\ttotal: 1m 49s\tremaining: 2m 43s\n",
      "500:\ttest: 0.9950540\ttest1: 0.8310270\tbest: 0.8442912 (68)\ttotal: 2m 16s\tremaining: 2m 15s\n",
      "Stopped by overfitting detector  (500 iterations wait)\n",
      "\n",
      "bestTest = 0.8442911536\n",
      "bestIteration = 68\n",
      "\n",
      "err:  0.83044913401634\n",
      "4 iter\n",
      "0:\ttest: 0.8144670\ttest1: 0.8014338\tbest: 0.8014338 (0)\ttotal: 273ms\tremaining: 4m 32s\n",
      "100:\ttest: 0.9170139\ttest1: 0.8286252\tbest: 0.8289895 (83)\ttotal: 26.8s\tremaining: 3m 58s\n",
      "200:\ttest: 0.9585266\ttest1: 0.8276066\tbest: 0.8289895 (83)\ttotal: 53.4s\tremaining: 3m 32s\n",
      "300:\ttest: 0.9802169\ttest1: 0.8232675\tbest: 0.8289895 (83)\ttotal: 1m 21s\tremaining: 3m 8s\n",
      "400:\ttest: 0.9903064\ttest1: 0.8206301\tbest: 0.8289895 (83)\ttotal: 1m 47s\tremaining: 2m 40s\n",
      "500:\ttest: 0.9959682\ttest1: 0.8179752\tbest: 0.8289895 (83)\ttotal: 2m 18s\tremaining: 2m 17s\n",
      "Stopped by overfitting detector  (500 iterations wait)\n",
      "\n",
      "bestTest = 0.8289895122\n",
      "bestIteration = 83\n",
      "\n",
      "err:  0.8166681258863036\n",
      "5 iter\n",
      "0:\ttest: 0.8132442\ttest1: 0.8113856\tbest: 0.8113856 (0)\ttotal: 291ms\tremaining: 4m 50s\n",
      "100:\ttest: 0.9148146\ttest1: 0.8380888\tbest: 0.8391996 (84)\ttotal: 35.4s\tremaining: 5m 14s\n",
      "200:\ttest: 0.9579502\ttest1: 0.8351503\tbest: 0.8391996 (84)\ttotal: 1m 6s\tremaining: 4m 23s\n",
      "300:\ttest: 0.9802856\ttest1: 0.8312640\tbest: 0.8391996 (84)\ttotal: 1m 37s\tremaining: 3m 45s\n",
      "400:\ttest: 0.9908202\ttest1: 0.8304367\tbest: 0.8391996 (84)\ttotal: 2m 7s\tremaining: 3m 10s\n",
      "500:\ttest: 0.9960025\ttest1: 0.8291825\tbest: 0.8391996 (84)\ttotal: 2m 38s\tremaining: 2m 38s\n",
      "Stopped by overfitting detector  (500 iterations wait)\n",
      "\n",
      "bestTest = 0.8391996261\n",
      "bestIteration = 84\n",
      "\n",
      "err:  0.8292159785239638\n",
      "6 iter\n",
      "0:\ttest: 0.8129212\ttest1: 0.8121986\tbest: 0.8121986 (0)\ttotal: 339ms\tremaining: 5m 38s\n",
      "100:\ttest: 0.9181955\ttest1: 0.8451632\tbest: 0.8460926 (56)\ttotal: 31.1s\tremaining: 4m 36s\n",
      "200:\ttest: 0.9613173\ttest1: 0.8437277\tbest: 0.8460926 (56)\ttotal: 1m 1s\tremaining: 4m 6s\n",
      "300:\ttest: 0.9803100\ttest1: 0.8398532\tbest: 0.8460926 (56)\ttotal: 1m 32s\tremaining: 3m 34s\n",
      "400:\ttest: 0.9909750\ttest1: 0.8369681\tbest: 0.8460926 (56)\ttotal: 2m 3s\tremaining: 3m 4s\n",
      "500:\ttest: 0.9962123\ttest1: 0.8337717\tbest: 0.8460926 (56)\ttotal: 2m 33s\tremaining: 2m 33s\n",
      "Stopped by overfitting detector  (500 iterations wait)\n",
      "\n",
      "bestTest = 0.8460925634\n",
      "bestIteration = 56\n",
      "\n",
      "err:  0.8326813980914289\n",
      "7 iter\n",
      "0:\ttest: 0.8135635\ttest1: 0.8081015\tbest: 0.8081015 (0)\ttotal: 310ms\tremaining: 5m 9s\n",
      "100:\ttest: 0.9129427\ttest1: 0.8349775\tbest: 0.8354345 (77)\ttotal: 30.5s\tremaining: 4m 31s\n",
      "200:\ttest: 0.9566144\ttest1: 0.8312788\tbest: 0.8354345 (77)\ttotal: 1m\tremaining: 4m 2s\n",
      "300:\ttest: 0.9799732\ttest1: 0.8290475\tbest: 0.8354345 (77)\ttotal: 1m 31s\tremaining: 3m 32s\n",
      "400:\ttest: 0.9903942\ttest1: 0.8266842\tbest: 0.8354345 (77)\ttotal: 2m 1s\tremaining: 3m 2s\n",
      "500:\ttest: 0.9950413\ttest1: 0.8256088\tbest: 0.8354345 (77)\ttotal: 2m 32s\tremaining: 2m 31s\n",
      "Stopped by overfitting detector  (500 iterations wait)\n",
      "\n",
      "bestTest = 0.8354344832\n",
      "bestIteration = 77\n",
      "\n",
      "err:  0.8246109607927974\n",
      "8 iter\n",
      "0:\ttest: 0.8104994\ttest1: 0.7934800\tbest: 0.7934800 (0)\ttotal: 333ms\tremaining: 5m 32s\n",
      "100:\ttest: 0.9171059\ttest1: 0.8368363\tbest: 0.8369301 (75)\ttotal: 30.3s\tremaining: 4m 29s\n",
      "200:\ttest: 0.9601875\ttest1: 0.8337046\tbest: 0.8371395 (118)\ttotal: 1m\tremaining: 3m 59s\n",
      "300:\ttest: 0.9804871\ttest1: 0.8314493\tbest: 0.8371395 (118)\ttotal: 1m 29s\tremaining: 3m 28s\n",
      "400:\ttest: 0.9902150\ttest1: 0.8288705\tbest: 0.8371395 (118)\ttotal: 1m 59s\tremaining: 2m 58s\n",
      "500:\ttest: 0.9956127\ttest1: 0.8276391\tbest: 0.8371395 (118)\ttotal: 2m 31s\tremaining: 2m 30s\n",
      "600:\ttest: 0.9979074\ttest1: 0.8272235\tbest: 0.8371395 (118)\ttotal: 3m\tremaining: 1m 59s\n",
      "Stopped by overfitting detector  (500 iterations wait)\n",
      "\n",
      "bestTest = 0.8371395379\n",
      "bestIteration = 118\n",
      "\n",
      "err:  0.8270144436692758\n",
      "9 iter\n",
      "0:\ttest: 0.8141812\ttest1: 0.8018478\tbest: 0.8018478 (0)\ttotal: 318ms\tremaining: 5m 17s\n",
      "100:\ttest: 0.9160175\ttest1: 0.8306474\tbest: 0.8314867 (58)\ttotal: 30.2s\tremaining: 4m 28s\n",
      "200:\ttest: 0.9579965\ttest1: 0.8292961\tbest: 0.8314867 (58)\ttotal: 60s\tremaining: 3m 58s\n",
      "300:\ttest: 0.9805274\ttest1: 0.8271883\tbest: 0.8314867 (58)\ttotal: 1m 29s\tremaining: 3m 28s\n",
      "400:\ttest: 0.9897579\ttest1: 0.8264543\tbest: 0.8314867 (58)\ttotal: 1m 58s\tremaining: 2m 57s\n",
      "500:\ttest: 0.9951722\ttest1: 0.8250050\tbest: 0.8314867 (58)\ttotal: 2m 28s\tremaining: 2m 27s\n",
      "Stopped by overfitting detector  (500 iterations wait)\n",
      "\n",
      "bestTest = 0.8314867298\n",
      "bestIteration = 58\n",
      "\n",
      "err:  0.8239457418743578\n",
      "10 iter\n",
      "0:\ttest: 0.8091792\ttest1: 0.8004427\tbest: 0.8004427 (0)\ttotal: 375ms\tremaining: 6m 15s\n",
      "100:\ttest: 0.9149101\ttest1: 0.8369984\tbest: 0.8384926 (71)\ttotal: 30.1s\tremaining: 4m 27s\n",
      "200:\ttest: 0.9566738\ttest1: 0.8330285\tbest: 0.8384926 (71)\ttotal: 59.7s\tremaining: 3m 57s\n",
      "300:\ttest: 0.9801641\ttest1: 0.8278025\tbest: 0.8384926 (71)\ttotal: 1m 29s\tremaining: 3m 28s\n",
      "400:\ttest: 0.9916030\ttest1: 0.8259811\tbest: 0.8384926 (71)\ttotal: 1m 59s\tremaining: 2m 58s\n",
      "500:\ttest: 0.9964749\ttest1: 0.8239226\tbest: 0.8384926 (71)\ttotal: 2m 29s\tremaining: 2m 28s\n",
      "Stopped by overfitting detector  (500 iterations wait)\n",
      "\n",
      "bestTest = 0.8384925753\n",
      "bestIteration = 71\n",
      "\n",
      "err:  0.8227333044887786\n"
     ]
    },
    {
     "data": {
      "text/plain": [
       "0.8266308075635249"
      ]
     },
     "execution_count": 26,
     "metadata": {},
     "output_type": "execute_result"
    }
   ],
   "source": [
    "#using catboost for the training\n",
    "\n",
    "errcb1=[]\n",
    "y_pred_totcb1=[]\n",
    "fold=StratifiedKFold(n_splits=10, shuffle=True, random_state=42)#25\n",
    "i=1\n",
    "for train_index, test_index in fold.split(train,y):\n",
    "    print(str(i) + ' iter')\n",
    "    X_train, X_test = train.iloc[train_index], train.iloc[test_index]\n",
    "    y_train, y_test = y.iloc[train_index], y.iloc[test_index]\n",
    "    m1  = CatBoostClassifier(n_estimators=1000,eval_metric='AUC',depth=10,l2_leaf_reg=9,one_hot_max_size=50,\n",
    "                              \n",
    "                             learning_rate=0.15,random_seed= 10, use_best_model=False)\n",
    "    m1.fit(X_train,y_train,eval_set=[(X_train,y_train),(X_test, y_test)], early_stopping_rounds=500,verbose=100)\n",
    "    preds=m1.predict_proba(X_test)[:,1]\n",
    "    print(\"err: \",roc_auc_score(y_test,preds))\n",
    "    errcb1.append((roc_auc_score(y_test,preds)))\n",
    "    p1 = m1.predict_proba(test)[:,1]\n",
    "    y_pred_totcb1.append(p1)\n",
    "    i+=1\n",
    "np.mean(errcb1)"
   ]
  },
  {
   "cell_type": "code",
   "execution_count": 27,
   "metadata": {},
   "outputs": [],
   "source": [
    "sub.default_status = np.mean(y_pred_totcb1, axis=0)"
   ]
  },
  {
   "cell_type": "code",
   "execution_count": 28,
   "metadata": {},
   "outputs": [],
   "source": [
    "\n",
    "\n",
    "sub.to_csv('catNEW101.csv', index = False)"
   ]
  },
  {
   "cell_type": "code",
   "execution_count": null,
   "metadata": {},
   "outputs": [],
   "source": []
  },
  {
   "cell_type": "code",
   "execution_count": 31,
   "metadata": {},
   "outputs": [
    {
     "name": "stdout",
     "output_type": "stream",
     "text": [
      "11 iter\n",
      "[23:35:20] WARNING: C:\\Users\\Administrator\\workspace\\xgboost-win64_release_1.1.0\\src\\learner.cc:480: \n",
      "Parameters: { random_seed } might not be used.\n",
      "\n",
      "  This may not be accurate due to some parameters are only used in language bindings but\n",
      "  passed down to XGBoost core.  Or some parameters are not used but slip through this\n",
      "  verification. Please open an issue if you find above cases.\n",
      "\n",
      "\n",
      "[0]\tvalidation_0-error:0.19490\tvalidation_1-error:0.20764\n",
      "Multiple eval metrics have been passed: 'validation_1-error' will be used for early stopping.\n",
      "\n",
      "Will train until validation_1-error hasn't improved in 500 rounds.\n",
      "[100]\tvalidation_0-error:0.13064\tvalidation_1-error:0.20157\n",
      "[200]\tvalidation_0-error:0.09087\tvalidation_1-error:0.20246\n",
      "[300]\tvalidation_0-error:0.06119\tvalidation_1-error:0.20764\n",
      "[400]\tvalidation_0-error:0.04163\tvalidation_1-error:0.20603\n",
      "[500]\tvalidation_0-error:0.02833\tvalidation_1-error:0.20407\n",
      "Stopping. Best iteration:\n",
      "[14]\tvalidation_0-error:0.17818\tvalidation_1-error:0.19586\n",
      "\n",
      "err:  0.8277029286193415\n",
      "12 iter\n",
      "[23:36:33] WARNING: C:\\Users\\Administrator\\workspace\\xgboost-win64_release_1.1.0\\src\\learner.cc:480: \n",
      "Parameters: { random_seed } might not be used.\n",
      "\n",
      "  This may not be accurate due to some parameters are only used in language bindings but\n",
      "  passed down to XGBoost core.  Or some parameters are not used but slip through this\n",
      "  verification. Please open an issue if you find above cases.\n",
      "\n",
      "\n",
      "[0]\tvalidation_0-error:0.19641\tvalidation_1-error:0.20764\n",
      "Multiple eval metrics have been passed: 'validation_1-error' will be used for early stopping.\n",
      "\n",
      "Will train until validation_1-error hasn't improved in 500 rounds.\n",
      "[100]\tvalidation_0-error:0.12869\tvalidation_1-error:0.19782\n",
      "[200]\tvalidation_0-error:0.09066\tvalidation_1-error:0.19907\n",
      "[300]\tvalidation_0-error:0.06345\tvalidation_1-error:0.20586\n",
      "[400]\tvalidation_0-error:0.04224\tvalidation_1-error:0.20211\n",
      "[500]\tvalidation_0-error:0.02881\tvalidation_1-error:0.20586\n",
      "Stopping. Best iteration:\n",
      "[33]\tvalidation_0-error:0.16375\tvalidation_1-error:0.19318\n",
      "\n",
      "err:  0.8352163011608724\n",
      "13 iter\n",
      "[23:37:48] WARNING: C:\\Users\\Administrator\\workspace\\xgboost-win64_release_1.1.0\\src\\learner.cc:480: \n",
      "Parameters: { random_seed } might not be used.\n",
      "\n",
      "  This may not be accurate due to some parameters are only used in language bindings but\n",
      "  passed down to XGBoost core.  Or some parameters are not used but slip through this\n",
      "  verification. Please open an issue if you find above cases.\n",
      "\n",
      "\n",
      "[0]\tvalidation_0-error:0.19713\tvalidation_1-error:0.20461\n",
      "Multiple eval metrics have been passed: 'validation_1-error' will be used for early stopping.\n",
      "\n",
      "Will train until validation_1-error hasn't improved in 500 rounds.\n",
      "[100]\tvalidation_0-error:0.12994\tvalidation_1-error:0.19336\n",
      "[200]\tvalidation_0-error:0.08933\tvalidation_1-error:0.19604\n",
      "[300]\tvalidation_0-error:0.06200\tvalidation_1-error:0.19604\n",
      "[400]\tvalidation_0-error:0.04131\tvalidation_1-error:0.19979\n",
      "[500]\tvalidation_0-error:0.02849\tvalidation_1-error:0.19836\n",
      "Stopping. Best iteration:\n",
      "[25]\tvalidation_0-error:0.17153\tvalidation_1-error:0.18818\n",
      "\n",
      "err:  0.8374987160016186\n",
      "14 iter\n",
      "[23:39:01] WARNING: C:\\Users\\Administrator\\workspace\\xgboost-win64_release_1.1.0\\src\\learner.cc:480: \n",
      "Parameters: { random_seed } might not be used.\n",
      "\n",
      "  This may not be accurate due to some parameters are only used in language bindings but\n",
      "  passed down to XGBoost core.  Or some parameters are not used but slip through this\n",
      "  verification. Please open an issue if you find above cases.\n",
      "\n",
      "\n",
      "[0]\tvalidation_0-error:0.19592\tvalidation_1-error:0.21175\n",
      "Multiple eval metrics have been passed: 'validation_1-error' will be used for early stopping.\n",
      "\n",
      "Will train until validation_1-error hasn't improved in 500 rounds.\n",
      "[100]\tvalidation_0-error:0.12905\tvalidation_1-error:0.20193\n",
      "[200]\tvalidation_0-error:0.08857\tvalidation_1-error:0.20496\n",
      "[300]\tvalidation_0-error:0.06165\tvalidation_1-error:0.20889\n",
      "[400]\tvalidation_0-error:0.04062\tvalidation_1-error:0.21014\n",
      "[500]\tvalidation_0-error:0.02806\tvalidation_1-error:0.21121\n",
      "Stopping. Best iteration:\n",
      "[13]\tvalidation_0-error:0.18006\tvalidation_1-error:0.19532\n",
      "\n",
      "err:  0.8259942628539441\n",
      "15 iter\n",
      "[23:40:15] WARNING: C:\\Users\\Administrator\\workspace\\xgboost-win64_release_1.1.0\\src\\learner.cc:480: \n",
      "Parameters: { random_seed } might not be used.\n",
      "\n",
      "  This may not be accurate due to some parameters are only used in language bindings but\n",
      "  passed down to XGBoost core.  Or some parameters are not used but slip through this\n",
      "  verification. Please open an issue if you find above cases.\n",
      "\n",
      "\n",
      "[0]\tvalidation_0-error:0.19693\tvalidation_1-error:0.21068\n",
      "Multiple eval metrics have been passed: 'validation_1-error' will be used for early stopping.\n",
      "\n",
      "Will train until validation_1-error hasn't improved in 500 rounds.\n",
      "[100]\tvalidation_0-error:0.12919\tvalidation_1-error:0.19889\n",
      "[200]\tvalidation_0-error:0.09060\tvalidation_1-error:0.20139\n",
      "[300]\tvalidation_0-error:0.06300\tvalidation_1-error:0.20568\n",
      "[400]\tvalidation_0-error:0.04185\tvalidation_1-error:0.20336\n",
      "[500]\tvalidation_0-error:0.02978\tvalidation_1-error:0.20996\n",
      "Stopping. Best iteration:\n",
      "[22]\tvalidation_0-error:0.17219\tvalidation_1-error:0.18854\n",
      "\n",
      "err:  0.8362927916158525\n",
      "16 iter\n",
      "[23:41:30] WARNING: C:\\Users\\Administrator\\workspace\\xgboost-win64_release_1.1.0\\src\\learner.cc:480: \n",
      "Parameters: { random_seed } might not be used.\n",
      "\n",
      "  This may not be accurate due to some parameters are only used in language bindings but\n",
      "  passed down to XGBoost core.  Or some parameters are not used but slip through this\n",
      "  verification. Please open an issue if you find above cases.\n",
      "\n",
      "\n",
      "[0]\tvalidation_0-error:0.19758\tvalidation_1-error:0.20361\n",
      "Multiple eval metrics have been passed: 'validation_1-error' will be used for early stopping.\n",
      "\n",
      "Will train until validation_1-error hasn't improved in 500 rounds.\n",
      "[100]\tvalidation_0-error:0.12835\tvalidation_1-error:0.19093\n",
      "[200]\tvalidation_0-error:0.08964\tvalidation_1-error:0.19700\n",
      "[300]\tvalidation_0-error:0.06232\tvalidation_1-error:0.20343\n",
      "[400]\tvalidation_0-error:0.04234\tvalidation_1-error:0.20254\n",
      "[500]\tvalidation_0-error:0.02861\tvalidation_1-error:0.20575\n",
      "Stopping. Best iteration:\n",
      "[24]\tvalidation_0-error:0.17327\tvalidation_1-error:0.18271\n",
      "\n",
      "err:  0.8380520575207346\n",
      "17 iter\n",
      "[23:42:43] WARNING: C:\\Users\\Administrator\\workspace\\xgboost-win64_release_1.1.0\\src\\learner.cc:480: \n",
      "Parameters: { random_seed } might not be used.\n",
      "\n",
      "  This may not be accurate due to some parameters are only used in language bindings but\n",
      "  passed down to XGBoost core.  Or some parameters are not used but slip through this\n",
      "  verification. Please open an issue if you find above cases.\n",
      "\n",
      "\n",
      "[0]\tvalidation_0-error:0.19623\tvalidation_1-error:0.20914\n",
      "Multiple eval metrics have been passed: 'validation_1-error' will be used for early stopping.\n",
      "\n",
      "Will train until validation_1-error hasn't improved in 500 rounds.\n",
      "[100]\tvalidation_0-error:0.12996\tvalidation_1-error:0.20522\n",
      "[200]\tvalidation_0-error:0.09196\tvalidation_1-error:0.21057\n",
      "[300]\tvalidation_0-error:0.06327\tvalidation_1-error:0.21343\n",
      "[400]\tvalidation_0-error:0.04309\tvalidation_1-error:0.21397\n",
      "[500]\tvalidation_0-error:0.02925\tvalidation_1-error:0.21397\n",
      "Stopping. Best iteration:\n",
      "[13]\tvalidation_0-error:0.18202\tvalidation_1-error:0.19932\n",
      "\n",
      "err:  0.8291871873591844\n",
      "18 iter\n",
      "[23:43:51] WARNING: C:\\Users\\Administrator\\workspace\\xgboost-win64_release_1.1.0\\src\\learner.cc:480: \n",
      "Parameters: { random_seed } might not be used.\n",
      "\n",
      "  This may not be accurate due to some parameters are only used in language bindings but\n",
      "  passed down to XGBoost core.  Or some parameters are not used but slip through this\n",
      "  verification. Please open an issue if you find above cases.\n",
      "\n",
      "\n",
      "[0]\tvalidation_0-error:0.19555\tvalidation_1-error:0.20289\n",
      "Multiple eval metrics have been passed: 'validation_1-error' will be used for early stopping.\n",
      "\n",
      "Will train until validation_1-error hasn't improved in 500 rounds.\n",
      "[100]\tvalidation_0-error:0.12994\tvalidation_1-error:0.20325\n",
      "[200]\tvalidation_0-error:0.09198\tvalidation_1-error:0.20664\n",
      "[300]\tvalidation_0-error:0.06393\tvalidation_1-error:0.20754\n",
      "[400]\tvalidation_0-error:0.04297\tvalidation_1-error:0.20664\n",
      "[500]\tvalidation_0-error:0.03002\tvalidation_1-error:0.20807\n",
      "Stopping. Best iteration:\n",
      "[22]\tvalidation_0-error:0.17315\tvalidation_1-error:0.19450\n",
      "\n"
     ]
    },
    {
     "name": "stdout",
     "output_type": "stream",
     "text": [
      "err:  0.8323352461827545\n",
      "19 iter\n",
      "[23:45:02] WARNING: C:\\Users\\Administrator\\workspace\\xgboost-win64_release_1.1.0\\src\\learner.cc:480: \n",
      "Parameters: { random_seed } might not be used.\n",
      "\n",
      "  This may not be accurate due to some parameters are only used in language bindings but\n",
      "  passed down to XGBoost core.  Or some parameters are not used but slip through this\n",
      "  verification. Please open an issue if you find above cases.\n",
      "\n",
      "\n",
      "[0]\tvalidation_0-error:0.19670\tvalidation_1-error:0.20736\n",
      "Multiple eval metrics have been passed: 'validation_1-error' will be used for early stopping.\n",
      "\n",
      "Will train until validation_1-error hasn't improved in 500 rounds.\n",
      "[100]\tvalidation_0-error:0.12777\tvalidation_1-error:0.20236\n",
      "[200]\tvalidation_0-error:0.09016\tvalidation_1-error:0.20004\n",
      "[300]\tvalidation_0-error:0.06133\tvalidation_1-error:0.20254\n",
      "[400]\tvalidation_0-error:0.04149\tvalidation_1-error:0.20414\n",
      "[500]\tvalidation_0-error:0.02799\tvalidation_1-error:0.20343\n",
      "Stopping. Best iteration:\n",
      "[18]\tvalidation_0-error:0.17698\tvalidation_1-error:0.19396\n",
      "\n",
      "err:  0.8284696963110023\n",
      "20 iter\n",
      "[23:46:11] WARNING: C:\\Users\\Administrator\\workspace\\xgboost-win64_release_1.1.0\\src\\learner.cc:480: \n",
      "Parameters: { random_seed } might not be used.\n",
      "\n",
      "  This may not be accurate due to some parameters are only used in language bindings but\n",
      "  passed down to XGBoost core.  Or some parameters are not used but slip through this\n",
      "  verification. Please open an issue if you find above cases.\n",
      "\n",
      "\n",
      "[0]\tvalidation_0-error:0.19575\tvalidation_1-error:0.21093\n",
      "Multiple eval metrics have been passed: 'validation_1-error' will be used for early stopping.\n",
      "\n",
      "Will train until validation_1-error hasn't improved in 500 rounds.\n",
      "[100]\tvalidation_0-error:0.12932\tvalidation_1-error:0.20093\n",
      "[200]\tvalidation_0-error:0.09055\tvalidation_1-error:0.20807\n",
      "[300]\tvalidation_0-error:0.06228\tvalidation_1-error:0.20968\n",
      "[400]\tvalidation_0-error:0.04238\tvalidation_1-error:0.21111\n",
      "[500]\tvalidation_0-error:0.02873\tvalidation_1-error:0.20914\n",
      "Stopping. Best iteration:\n",
      "[18]\tvalidation_0-error:0.17585\tvalidation_1-error:0.19736\n",
      "\n",
      "err:  0.8323336072875975\n"
     ]
    },
    {
     "data": {
      "text/plain": [
       "0.8323082794912903"
      ]
     },
     "execution_count": 31,
     "metadata": {},
     "output_type": "execute_result"
    }
   ],
   "source": [
    "#using xgboost for the training\n",
    "errcb2=[]\n",
    "y_pred_totcb2=[]\n",
    "fold=StratifiedKFold(n_splits=10, shuffle=True, random_state=42)\n",
    "for train_index, test_index in fold.split(train,y):\n",
    "    print(str(i) + ' iter')\n",
    "    X_train, X_test = train.iloc[train_index], train.iloc[test_index]\n",
    "    y_train, y_test = y.iloc[train_index], y.iloc[test_index]\n",
    "    m2  = XGBClassifier(n_estimators=1200, objective ='binary:logistic', \n",
    "                          eta = 0.99,\n",
    "                          max_depth = 6, \n",
    "                          n_jobs=-1,\n",
    "\n",
    "                          reg_lambda = 500,\n",
    "                          \n",
    "                          colsample_bytree = 0.8,min_child_weight=1.7817,gamma=0.046,\n",
    "    \n",
    "   \n",
    "                              \n",
    "                            random_seed= 10)\n",
    "    m2.fit(X_train,y_train,eval_set=[(X_train,y_train),(X_test, y_test)], early_stopping_rounds=500,verbose=100)\n",
    "    preds=m2.predict_proba(X_test)[:,1]\n",
    "    print(\"err: \",roc_auc_score(y_test,preds))\n",
    "    errcb2.append((roc_auc_score(y_test,preds)))\n",
    "    p2 = m2.predict_proba(test)[:,1]\n",
    "    y_pred_totcb2.append(p2)\n",
    "    i+=1\n",
    "np.mean(errcb2)\n",
    "                    \n",
    "\n",
    "   "
   ]
  },
  {
   "cell_type": "code",
   "execution_count": 32,
   "metadata": {},
   "outputs": [],
   "source": [
    "xgb_sub = sub.copy()"
   ]
  },
  {
   "cell_type": "code",
   "execution_count": 33,
   "metadata": {},
   "outputs": [],
   "source": [
    "xgb_sub.default_status = np.mean(y_pred_totcb2, axis=0)"
   ]
  },
  {
   "cell_type": "code",
   "execution_count": 34,
   "metadata": {},
   "outputs": [],
   "source": [
    "xgb_sub.to_csv('2XGB101.csv', index = False)"
   ]
  },
  {
   "cell_type": "code",
   "execution_count": null,
   "metadata": {},
   "outputs": [],
   "source": []
  },
  {
   "cell_type": "code",
   "execution_count": null,
   "metadata": {},
   "outputs": [],
   "source": [
    "#blending of predictions"
   ]
  },
  {
   "cell_type": "code",
   "execution_count": 35,
   "metadata": {},
   "outputs": [],
   "source": [
    "blend = (xgb_sub.default_status*0.4) + (sub.default_status*0.6)"
   ]
  },
  {
   "cell_type": "code",
   "execution_count": 36,
   "metadata": {},
   "outputs": [],
   "source": [
    "blend_sub = sub.copy()"
   ]
  },
  {
   "cell_type": "code",
   "execution_count": 37,
   "metadata": {},
   "outputs": [],
   "source": [
    "sub.default_status = blend"
   ]
  },
  {
   "cell_type": "code",
   "execution_count": 38,
   "metadata": {},
   "outputs": [],
   "source": [
    "blend_sub.default_status = blend"
   ]
  },
  {
   "cell_type": "code",
   "execution_count": 39,
   "metadata": {},
   "outputs": [],
   "source": [
    "blend_sub.to_csv('BLEND101.csv', index = False)"
   ]
  },
  {
   "cell_type": "code",
   "execution_count": 40,
   "metadata": {},
   "outputs": [],
   "source": [
    "reblend = ((xgb_sub.default_status*0.33) + (sub.default_status*0.67))*0.95 + (sub.default_status*0.05)"
   ]
  },
  {
   "cell_type": "code",
   "execution_count": 41,
   "metadata": {},
   "outputs": [],
   "source": [
    "reblend_sub = sub.copy()"
   ]
  },
  {
   "cell_type": "code",
   "execution_count": 42,
   "metadata": {},
   "outputs": [],
   "source": [
    "\n",
    "reblend_sub.default_status = reblend"
   ]
  },
  {
   "cell_type": "code",
   "execution_count": 43,
   "metadata": {},
   "outputs": [],
   "source": [
    "reblend_sub.to_csv('NEWREBLEND101233.csv', index = False)"
   ]
  }
 ],
 "metadata": {
  "kernelspec": {
   "display_name": "Python 3",
   "language": "python",
   "name": "python3"
  },
  "language_info": {
   "codemirror_mode": {
    "name": "ipython",
    "version": 3
   },
   "file_extension": ".py",
   "mimetype": "text/x-python",
   "name": "python",
   "nbconvert_exporter": "python",
   "pygments_lexer": "ipython3",
   "version": "3.6.5"
  }
 },
 "nbformat": 4,
 "nbformat_minor": 2
}
